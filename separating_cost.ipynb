{
 "cells": [
  {
   "cell_type": "code",
   "execution_count": 12,
   "id": "9d76db74",
   "metadata": {},
   "outputs": [],
   "source": [
    "import numpy as np\n",
    "from matplotlib import pyplot as plt\n",
    "from scipy.integrate import quad\n",
    "from scipy import linalg as la\n",
    "from scipy.optimize import minimize"
   ]
  },
  {
   "cell_type": "code",
   "execution_count": 13,
   "id": "49ee626b",
   "metadata": {},
   "outputs": [],
   "source": [
    "from scipy.special import erf,erfc"
   ]
  },
  {
   "cell_type": "markdown",
   "id": "6f3406b1",
   "metadata": {},
   "source": [
    "### Define Constants and Functions"
   ]
  },
  {
   "cell_type": "code",
   "execution_count": 14,
   "id": "af731ee6",
   "metadata": {},
   "outputs": [],
   "source": [
    "def U(T, To, r, mu, Tbar, s_min=0, s_max=1, scen=\"CST\", Ts=None, Pb=None):\n",
    "    \"\"\"\n",
    "    Analytical formula for the potential in the case of CST or of 1 TCL in CPO.\n",
    "    \"\"\"\n",
    "\n",
    "    si = s_min + int(T > Tbar) * (s_max-s_min)\n",
    "\n",
    "    if scen == \"CST\":\n",
    "        U = (T-To)**2/(2*r) + cp*mu*si/2*((T-Ts)**2 - (Tbar-Ts)**2)\n",
    "    elif scen == \"CPO\":\n",
    "        Ts = To - Pb/(mu*si)\n",
    "        U = (T-To)**2/(2*r) + cp*mu*si/2 * \\\n",
    "            ((T - Ts)**2-(Tbar - Ts)**2)\n",
    "\n",
    "    return U\n",
    "\n",
    "\n",
    "def Z(alpha, To, r, mu, Tbar, s_min=0, s_max=1, scen=\"CST\", Ts=None, Pb=None):\n",
    "    \"\"\"\n",
    "    Partition function for the marginal distribution.\n",
    "    \"\"\"\n",
    "\n",
    "    # first part of the integral, for T < Tbar\n",
    "    beta, delta, gamma = get_coeffs(\n",
    "        To, r, mu, Tbar, s_min, alpha, scen=scen, Ts=Ts, Pb=Pb)\n",
    "\n",
    "    Z1 = np.exp(gamma)/np.sqrt(beta)*np.sqrt(np.pi) / \\\n",
    "        2*(erf(np.sqrt(beta)*(Tbar-delta))+1)\n",
    "\n",
    "    # second part of the integral, for T > Tbar\n",
    "    beta, delta, gamma = get_coeffs(\n",
    "        To, r, mu, Tbar, s_max, alpha, scen=scen, Ts=Ts, Pb=Pb)\n",
    "\n",
    "    Z2 = np.exp(gamma)/np.sqrt(beta)*np.sqrt(np.pi) / \\\n",
    "        2*erfc(np.sqrt(beta)*(Tbar-delta))\n",
    "\n",
    "    return Z1+Z2\n",
    "\n",
    "\n",
    "def get_coeffs(To, r, mu,  Tbar, s, alpha, scen=\"CST\", Ts=None, Pb=None):\n",
    "    \"\"\"\n",
    "    Computes coefficients enabling analytical derivation of the pdf.\n",
    "    Notes\n",
    "    -----\n",
    "    - The potential is rewritten as U = aT**2 - bT - c\n",
    "    - The pdf has therefore the form\n",
    "                    P \\propto exp(-alpha * (aT**2 - bT - c))\n",
    "                    P \\propto exp(- beta * (T-delta)**2 + gamma)\n",
    "    - beta, delta, gamma enable the expression of Z as a function of erf, erfc \n",
    "    functions\n",
    "    \"\"\"\n",
    "\n",
    "    if scen == \"CST\":\n",
    "        a = (1/(2*r) + cp*mu*s/2)\n",
    "        b = To/r + 2*Ts*cp*mu*s/2\n",
    "        c = -(To**2/(2*r) + cp*mu*s/2*(2*Tbar*Ts - Tbar**2))\n",
    "\n",
    "    elif scen == \"CPO\":\n",
    "        eta = mu*s*cp/2\n",
    "        eps = To - Pb/(mu*s)\n",
    "        dzeta = Tbar - eps\n",
    "        a = 1/(2*r) + eta\n",
    "        b = To/r + 2*eps*eta\n",
    "        c = -(To**2/(2*r)+eta*eps**2-eta*dzeta**2)\n",
    "\n",
    "    beta = alpha*a\n",
    "    delta = b/(2*a)\n",
    "    gamma = alpha*(c+b**2/(4*a))\n",
    "\n",
    "    return beta, delta, gamma\n",
    "\n",
    "\n",
    "def get_P(alpha, T, To, r, mu, Tbar, s_min=0, s_max=1, scen=\"CST\", Ts=None, Pb=None):\n",
    "    \"\"\"\n",
    "    Compute the probability distribution.\n",
    "    \"\"\"\n",
    "\n",
    "    U_ = U(T, To, r, mu,  Tbar, s_min=s_min, s_max=s_max, scen=scen, Ts=Ts, Pb=Pb)\n",
    "    Z_ = Z(alpha, To, r, mu, Tbar, s_min=s_min,\n",
    "           s_max=s_max, scen=scen, Ts=Ts, Pb=Pb)\n",
    "\n",
    "    return np.exp(-alpha*U_)/Z_"
   ]
  },
  {
   "cell_type": "code",
   "execution_count": 21,
   "id": "17ea2d63",
   "metadata": {},
   "outputs": [],
   "source": [
    "s_minus = 0\n",
    "s_plus = 1\n",
    "alpha = 1\n",
    "N = 1\n",
    "Tc = 24\n",
    "beta = 1\n",
    "To = 30\n",
    "Ts = 20\n",
    "muBar = 0.5\n",
    "cp = 1\n",
    "r = 2\n",
    "c = 15\n",
    "D = 10"
   ]
  },
  {
   "cell_type": "code",
   "execution_count": 22,
   "id": "0d30f4d0",
   "metadata": {},
   "outputs": [],
   "source": [
    "def f_Tbar(Tbar):\n",
    "    s = lambda T: s_minus if T <= Tbar else s_plus\n",
    "    Lcomf = lambda T: get_P(alpha, T, To, r, muBar, Tbar, s_min=s_minus, s_max=s_plus, Ts=Ts) * (T-Tc)**2\n",
    "    Lpower = lambda T: get_P(alpha, T, To, r, muBar, Tbar, s_min=s_minus, s_max=s_plus, Ts=Ts) * s(T)\n",
    "    val1 = alpha*N/2 * quad(Lcomf,-np.inf,np.inf)[0]\n",
    "    val2 = beta*(To-Ts)*muBar*N*quad(Lpower,-np.inf,np.inf)[0]\n",
    "    return val1,val2\n",
    "f_Tbar = np.vectorize(f_Tbar,otypes=[np.ndarray])"
   ]
  },
  {
   "cell_type": "markdown",
   "id": "f6c963ad",
   "metadata": {},
   "source": [
    "### Minimize Tbar"
   ]
  },
  {
   "cell_type": "code",
   "execution_count": 59,
   "id": "c74afe71",
   "metadata": {},
   "outputs": [],
   "source": [
    "val = 0\n",
    "s = lambda T: s_minus if T <= val else s_plus"
   ]
  },
  {
   "cell_type": "code",
   "execution_count": 60,
   "id": "dd6a510b",
   "metadata": {},
   "outputs": [
    {
     "data": {
      "text/plain": [
       "0.01752830049356854"
      ]
     },
     "execution_count": 60,
     "metadata": {},
     "output_type": "execute_result"
    }
   ],
   "source": [
    "val2 = 27.5\n",
    "get_P(alpha, val2, To, r, muBar, val, s_min=s_minus, s_max=s_plus, Ts=Ts) * s(val2)"
   ]
  },
  {
   "cell_type": "code",
   "execution_count": 61,
   "id": "6c866aa3",
   "metadata": {},
   "outputs": [
    {
     "data": {
      "text/plain": [
       "1.0000000000211329"
      ]
     },
     "execution_count": 61,
     "metadata": {},
     "output_type": "execute_result"
    }
   ],
   "source": [
    "Lpower = lambda T: get_P(alpha, T, To, r, muBar, val, s_min=s_minus, s_max=s_plus, Ts=Ts) * s(T)\n",
    "quad(Lpower,-np.inf,np.inf)[0]"
   ]
  },
  {
   "cell_type": "code",
   "execution_count": 17,
   "id": "454b6a2d",
   "metadata": {},
   "outputs": [],
   "source": [
    "tbarDom = np.linspace(10,40,1001)\n",
    "vals = f_Tbar(tbarDom)\n",
    "fVal1 = []\n",
    "fVal2 = []\n",
    "for val in vals:\n",
    "    fVal1.append(val[0])\n",
    "    fVal2.append(val[1])"
   ]
  },
  {
   "cell_type": "code",
   "execution_count": 18,
   "id": "7b8ad19c",
   "metadata": {},
   "outputs": [
    {
     "data": {
      "image/png": "[encoded data removed]",
      "text/plain": [
       "<Figure size 640x480 with 1 Axes>"
      ]
     },
     "metadata": {},
     "output_type": "display_data"
    }
   ],
   "source": [
    "plt.plot(tbarDom,fVal1,label=\"Comf\")\n",
    "plt.plot(tbarDom,fVal2,label=\"Power\")\n",
    "plt.xlabel(r\"$\\bar{T}$\")\n",
    "plt.ylabel(\"Cost Value\")\n",
    "plt.title(fr\"$\\alpha={alpha},\\ \\beta={beta},\\ s_-={s_minus},\\ s_+={s_plus},\\ T_s={Ts}$\")\n",
    "plt.legend()\n",
    "# plt.savefig(\"tbar_1b.jpeg\",dpi=640,bbox_inches='tight')\n",
    "plt.show()"
   ]
  },
  {
   "cell_type": "code",
   "execution_count": 10,
   "id": "4c13615e",
   "metadata": {},
   "outputs": [],
   "source": [
    "tbarDom = np.linspace(10,40,1001)\n",
    "vals = f_Tbar(tbarDom)\n",
    "fVal1 = []\n",
    "fVal2 = []\n",
    "for val in vals:\n",
    "    fVal1.append(val[0])\n",
    "    fVal2.append(val[1])"
   ]
  },
  {
   "cell_type": "code",
   "execution_count": 11,
   "id": "e92ba375",
   "metadata": {},
   "outputs": [
    {
     "data": {
      "image/png": "[encoded data removed]",
      "text/plain": [
       "<Figure size 640x480 with 1 Axes>"
      ]
     },
     "metadata": {},
     "output_type": "display_data"
    }
   ],
   "source": [
    "plt.plot(tbarDom,fVal1,label=\"Comf\")\n",
    "plt.plot(tbarDom,fVal2,label=\"Power\")\n",
    "plt.xlabel(r\"$\\bar{T}$\")\n",
    "plt.ylabel(\"Cost Value\")\n",
    "plt.title(fr\"$\\alpha={alpha},\\ \\beta={beta},\\ s_-={s_minus},\\ s_+={s_plus},\\ T_s={Ts}$\")\n",
    "plt.legend()\n",
    "# plt.savefig(\"tbar_1b.jpeg\",dpi=640,bbox_inches='tight')\n",
    "plt.show()"
   ]
  },
  {
   "cell_type": "code",
   "execution_count": 40,
   "id": "7d156b53",
   "metadata": {},
   "outputs": [],
   "source": [
    "alpha = 0.5\n",
    "beta = 0.5"
   ]
  },
  {
   "cell_type": "code",
   "execution_count": 41,
   "id": "2c4e6c6f",
   "metadata": {},
   "outputs": [],
   "source": [
    "tbarDom = np.linspace(10,40,101)\n",
    "vals = f_Tbar(tbarDom)\n",
    "fVal1 = []\n",
    "fVal2 = []\n",
    "for val in vals:\n",
    "    fVal1.append(val[0])\n",
    "    fVal2.append(val[1])"
   ]
  },
  {
   "cell_type": "code",
   "execution_count": 42,
   "id": "e91cd247",
   "metadata": {},
   "outputs": [
    {
     "data": {
      "image/png": "[encoded data removed]",
      "text/plain": [
       "<Figure size 432x288 with 1 Axes>"
      ]
     },
     "metadata": {
      "needs_background": "light"
     },
     "output_type": "display_data"
    }
   ],
   "source": [
    "plt.plot(tbarDom,fVal1,label=\"Comf\")\n",
    "plt.plot(tbarDom,fVal2,label=\"Power\")\n",
    "plt.xlabel(r\"$\\bar{T}$\")\n",
    "plt.ylabel(\"Cost Value\")\n",
    "plt.title(fr\"$\\alpha={alpha},\\ \\beta={beta},\\ s_-={s_minus},\\ s_+={s_plus},\\ T_s={Ts}$\")\n",
    "plt.legend()\n",
    "plt.savefig(\"tbar_2b.jpeg\",dpi=640,bbox_inches='tight')\n",
    "plt.show()"
   ]
  },
  {
   "cell_type": "code",
   "execution_count": 43,
   "id": "73553d25",
   "metadata": {},
   "outputs": [],
   "source": [
    "alpha = 1\n",
    "beta = 0.5"
   ]
  },
  {
   "cell_type": "code",
   "execution_count": 44,
   "id": "bde6e380",
   "metadata": {},
   "outputs": [],
   "source": [
    "tbarDom = np.linspace(10,40,101)\n",
    "vals = f_Tbar(tbarDom)\n",
    "fVal1 = []\n",
    "fVal2 = []\n",
    "for val in vals:\n",
    "    fVal1.append(val[0])\n",
    "    fVal2.append(val[1])"
   ]
  },
  {
   "cell_type": "code",
   "execution_count": 45,
   "id": "74364480",
   "metadata": {},
   "outputs": [
    {
     "data": {
      "image/png": "[encoded data removed]",
      "text/plain": [
       "<Figure size 432x288 with 1 Axes>"
      ]
     },
     "metadata": {
      "needs_background": "light"
     },
     "output_type": "display_data"
    }
   ],
   "source": [
    "plt.plot(tbarDom,fVal1,label=\"Comf\")\n",
    "plt.plot(tbarDom,fVal2,label=\"Power\")\n",
    "plt.xlabel(r\"$\\bar{T}$\")\n",
    "plt.ylabel(\"Cost Value\")\n",
    "plt.title(fr\"$\\alpha={alpha},\\ \\beta={beta},\\ s_-={s_minus},\\ s_+={s_plus},\\ T_s={Ts}$\")\n",
    "plt.legend()\n",
    "plt.savefig(\"tbar_3b.jpeg\",dpi=640,bbox_inches='tight')\n",
    "plt.show()"
   ]
  },
  {
   "cell_type": "code",
   "execution_count": 46,
   "id": "00f03138",
   "metadata": {},
   "outputs": [],
   "source": [
    "alpha = 0.5\n",
    "beta = 1"
   ]
  },
  {
   "cell_type": "code",
   "execution_count": 47,
   "id": "abed88de",
   "metadata": {},
   "outputs": [],
   "source": [
    "tbarDom = np.linspace(10,40,101)\n",
    "vals = f_Tbar(tbarDom)\n",
    "fVal1 = []\n",
    "fVal2 = []\n",
    "for val in vals:\n",
    "    fVal1.append(val[0])\n",
    "    fVal2.append(val[1])"
   ]
  },
  {
   "cell_type": "code",
   "execution_count": 48,
   "id": "2fd9142e",
   "metadata": {},
   "outputs": [
    {
     "data": {
      "image/png": "[encoded data removed]",
      "text/plain": [
       "<Figure size 432x288 with 1 Axes>"
      ]
     },
     "metadata": {
      "needs_background": "light"
     },
     "output_type": "display_data"
    }
   ],
   "source": [
    "plt.plot(tbarDom,fVal1,label=\"Comf\")\n",
    "plt.plot(tbarDom,fVal2,label=\"Power\")\n",
    "plt.xlabel(r\"$\\bar{T}$\")\n",
    "plt.ylabel(\"Cost Value\")\n",
    "plt.title(fr\"$\\alpha={alpha},\\ \\beta={beta},\\ s_-={s_minus},\\ s_+={s_plus},\\ T_s={Ts}$\")\n",
    "plt.legend()\n",
    "plt.savefig(\"tbar_4b.jpeg\",dpi=640,bbox_inches='tight')\n",
    "plt.show()"
   ]
  },
  {
   "cell_type": "code",
   "execution_count": null,
   "id": "44dbea6b",
   "metadata": {},
   "outputs": [],
   "source": []
  },
  {
   "cell_type": "markdown",
   "id": "ec2cec57",
   "metadata": {},
   "source": [
    "### Minimize s-"
   ]
  },
  {
   "cell_type": "code",
   "execution_count": 49,
   "id": "d3b69e17",
   "metadata": {},
   "outputs": [],
   "source": [
    "# s_minus = 0.2\n",
    "s_plus = 1\n",
    "alpha = 1\n",
    "N = 1\n",
    "Tc = 24\n",
    "beta = 1\n",
    "To = 30\n",
    "Ts = 20\n",
    "Tbar = 25\n",
    "Tbar = 25.92904663\n",
    "muBar = 0.5\n",
    "cp = 1\n",
    "r = 2\n",
    "c = 15\n",
    "D = 10\n",
    "s = lambda T: s_minus if T <= Tbar else s_plus"
   ]
  },
  {
   "cell_type": "code",
   "execution_count": 50,
   "id": "ec585739",
   "metadata": {},
   "outputs": [],
   "source": [
    "def f_s_minus(s_minus):\n",
    "    s = lambda T: s_minus if T <= Tbar else s_plus\n",
    "    Lcomf = lambda T: get_P(alpha, T, To, r, muBar, Tbar, s_min=s_minus, s_max=s_plus, Ts=Ts) * (T-Tc)**2\n",
    "    Lpower = lambda T: get_P(alpha, T, To, r, muBar, Tbar, s_min=s_minus, s_max=s_plus, Ts=Ts)*s(T)\n",
    "    val1 = alpha*N/2 * quad(Lcomf,-np.inf,np.inf)[0]\n",
    "    val2 = beta*(To-Ts)*muBar*N*quad(Lpower,-np.inf,np.inf)[0]\n",
    "    return val1,val2\n",
    "f_s_minus = np.vectorize(f_s_minus,otypes=[np.ndarray])"
   ]
  },
  {
   "cell_type": "code",
   "execution_count": 51,
   "id": "1ac347c8",
   "metadata": {},
   "outputs": [],
   "source": [
    "s_minus_DOM = np.linspace(0,1,101)\n",
    "vals = f_s_minus(s_minus_DOM)\n",
    "fVal1 = []\n",
    "fVal2 = []\n",
    "for val in vals:\n",
    "    fVal1.append(val[0])\n",
    "    fVal2.append(val[1])"
   ]
  },
  {
   "cell_type": "code",
   "execution_count": 52,
   "id": "36f0d0ba",
   "metadata": {},
   "outputs": [
    {
     "data": {
      "image/png": "[encoded data removed]",
      "text/plain": [
       "<Figure size 432x288 with 1 Axes>"
      ]
     },
     "metadata": {
      "needs_background": "light"
     },
     "output_type": "display_data"
    }
   ],
   "source": [
    "plt.plot(s_minus_DOM,fVal1,label=\"Comf\")\n",
    "plt.plot(s_minus_DOM,fVal2,label=\"Power\")\n",
    "plt.xlabel(r\"$s_-$\")\n",
    "plt.ylabel(\"Cost Value\")\n",
    "plt.title(fr\"$\\alpha={alpha},\\ \\beta={beta},\\ \\bar T={Tbar},\\ s_+={s_plus},\\ T_s={Ts}$\")\n",
    "plt.legend()\n",
    "plt.savefig(\"s_minus_1b.jpeg\",dpi=640,bbox_inches='tight')\n",
    "plt.show()"
   ]
  },
  {
   "cell_type": "code",
   "execution_count": 53,
   "id": "f33749d0",
   "metadata": {},
   "outputs": [],
   "source": [
    "alpha = 0.5\n",
    "beta = 0.5"
   ]
  },
  {
   "cell_type": "code",
   "execution_count": 54,
   "id": "d15c046b",
   "metadata": {},
   "outputs": [],
   "source": [
    "s_minus_DOM = np.linspace(0,1,101)\n",
    "vals = f_s_minus(s_minus_DOM)\n",
    "fVal1 = []\n",
    "fVal2 = []\n",
    "for val in vals:\n",
    "    fVal1.append(val[0])\n",
    "    fVal2.append(val[1])"
   ]
  },
  {
   "cell_type": "code",
   "execution_count": 55,
   "id": "323b28d1",
   "metadata": {},
   "outputs": [
    {
     "data": {
      "image/png": "[encoded data removed]",
      "text/plain": [
       "<Figure size 432x288 with 1 Axes>"
      ]
     },
     "metadata": {
      "needs_background": "light"
     },
     "output_type": "display_data"
    }
   ],
   "source": [
    "plt.plot(s_minus_DOM,fVal1,label=\"Comf\")\n",
    "plt.plot(s_minus_DOM,fVal2,label=\"Power\")\n",
    "plt.xlabel(r\"$s_-$\")\n",
    "plt.ylabel(\"Cost Value\")\n",
    "plt.title(fr\"$\\alpha={alpha},\\ \\beta={beta},\\ \\bar T={Tbar},\\ s_+={s_plus},\\ T_s={Ts}$\")\n",
    "plt.legend()\n",
    "plt.savefig(\"s_minus_2b.jpeg\",dpi=640,bbox_inches='tight')\n",
    "plt.show()"
   ]
  },
  {
   "cell_type": "code",
   "execution_count": 56,
   "id": "e57b0b2d",
   "metadata": {},
   "outputs": [],
   "source": [
    "alpha = 1\n",
    "beta = 0.5"
   ]
  },
  {
   "cell_type": "code",
   "execution_count": 57,
   "id": "aea83585",
   "metadata": {},
   "outputs": [],
   "source": [
    "s_minus_DOM = np.linspace(0,1,101)\n",
    "vals = f_s_minus(s_minus_DOM)\n",
    "fVal1 = []\n",
    "fVal2 = []\n",
    "for val in vals:\n",
    "    fVal1.append(val[0])\n",
    "    fVal2.append(val[1])"
   ]
  },
  {
   "cell_type": "code",
   "execution_count": 58,
   "id": "708ef4c7",
   "metadata": {},
   "outputs": [
    {
     "data": {
      "image/png": "[encoded data removed]",
      "text/plain": [
       "<Figure size 432x288 with 1 Axes>"
      ]
     },
     "metadata": {
      "needs_background": "light"
     },
     "output_type": "display_data"
    }
   ],
   "source": [
    "plt.plot(s_minus_DOM,fVal1,label=\"Comf\")\n",
    "plt.plot(s_minus_DOM,fVal2,label=\"Power\")\n",
    "plt.xlabel(r\"$s_-$\")\n",
    "plt.ylabel(\"Cost Value\")\n",
    "plt.title(fr\"$\\alpha={alpha},\\ \\beta={beta},\\ \\bar T={Tbar},\\ s_+={s_plus},\\ T_s={Ts}$\")\n",
    "plt.legend()\n",
    "plt.savefig(\"s_minus_3b.jpeg\",dpi=640,bbox_inches='tight')\n",
    "plt.show()"
   ]
  },
  {
   "cell_type": "code",
   "execution_count": 59,
   "id": "25274d1f",
   "metadata": {},
   "outputs": [],
   "source": [
    "alpha = 0.5\n",
    "beta = 1"
   ]
  },
  {
   "cell_type": "code",
   "execution_count": 60,
   "id": "89a80798",
   "metadata": {},
   "outputs": [],
   "source": [
    "s_minus_DOM = np.linspace(0,1,101)\n",
    "vals = f_s_minus(s_minus_DOM)\n",
    "fVal1 = []\n",
    "fVal2 = []\n",
    "for val in vals:\n",
    "    fVal1.append(val[0])\n",
    "    fVal2.append(val[1])"
   ]
  },
  {
   "cell_type": "code",
   "execution_count": 61,
   "id": "16399561",
   "metadata": {},
   "outputs": [
    {
     "data": {
      "image/png": "[encoded data removed]",
      "text/plain": [
       "<Figure size 432x288 with 1 Axes>"
      ]
     },
     "metadata": {
      "needs_background": "light"
     },
     "output_type": "display_data"
    }
   ],
   "source": [
    "plt.plot(s_minus_DOM,fVal1,label=\"Comf\")\n",
    "plt.plot(s_minus_DOM,fVal2,label=\"Power\")\n",
    "plt.xlabel(r\"$s_-$\")\n",
    "plt.ylabel(\"Cost Value\")\n",
    "plt.title(fr\"$\\alpha={alpha},\\ \\beta={beta},\\ \\bar T={Tbar},\\ s_+={s_plus},\\ T_s={Ts}$\")\n",
    "plt.legend()\n",
    "plt.savefig(\"s_minus_4b.jpeg\",dpi=640,bbox_inches='tight')\n",
    "plt.show()"
   ]
  },
  {
   "cell_type": "code",
   "execution_count": null,
   "id": "2f0fcf2b",
   "metadata": {},
   "outputs": [],
   "source": []
  },
  {
   "cell_type": "code",
   "execution_count": null,
   "id": "5c460f96",
   "metadata": {},
   "outputs": [],
   "source": []
  },
  {
   "cell_type": "markdown",
   "id": "1219f64c",
   "metadata": {},
   "source": [
    "### Minimize s+"
   ]
  },
  {
   "cell_type": "code",
   "execution_count": 63,
   "id": "ec475a23",
   "metadata": {},
   "outputs": [],
   "source": [
    "s_minus = 0\n",
    "# s_plus = 1\n",
    "alpha = 1\n",
    "N = 1\n",
    "Tc = 24\n",
    "beta = 1\n",
    "To = 30\n",
    "Ts = 20\n",
    "Tbar = 25\n",
    "Tbar = 25.92904663\n",
    "muBar = 0.5\n",
    "cp = 1\n",
    "r = 2\n",
    "c = 15\n",
    "D = 10\n",
    "s = lambda T: s_minus if T <= Tbar else s_plus"
   ]
  },
  {
   "cell_type": "code",
   "execution_count": 64,
   "id": "aec2e436",
   "metadata": {},
   "outputs": [],
   "source": [
    "def f_s_plus(s_plus):\n",
    "    s = lambda T: s_minus if T <= Tbar else s_plus\n",
    "    Lcomf = lambda T: get_P(alpha, T, To, r, muBar, Tbar, s_min=s_minus, s_max=s_plus, Ts=Ts) * (T-Tc)**2\n",
    "    Lpower = lambda T: get_P(alpha, T, To, r, muBar, Tbar, s_min=s_minus, s_max=s_plus, Ts=Ts)*s(T)\n",
    "    val1 = alpha*N/2 * quad(Lcomf,-np.inf,np.inf)[0]\n",
    "    val2 = beta*(To-Ts)*muBar*N*quad(Lpower,-np.inf,np.inf)[0]\n",
    "    return val1,val2\n",
    "f_s_plus = np.vectorize(f_s_plus,otypes=[np.ndarray])"
   ]
  },
  {
   "cell_type": "code",
   "execution_count": 65,
   "id": "5ecb066d",
   "metadata": {},
   "outputs": [],
   "source": [
    "s_plus_DOM = np.linspace(0,1,101)\n",
    "vals = f_s_plus(s_plus_DOM)\n",
    "fVal1 = []\n",
    "fVal2 = []\n",
    "for val in vals:\n",
    "    fVal1.append(val[0])\n",
    "    fVal2.append(val[1])"
   ]
  },
  {
   "cell_type": "code",
   "execution_count": 66,
   "id": "fb188bc7",
   "metadata": {},
   "outputs": [
    {
     "data": {
      "image/png": "[encoded data removed]",
      "text/plain": [
       "<Figure size 432x288 with 1 Axes>"
      ]
     },
     "metadata": {
      "needs_background": "light"
     },
     "output_type": "display_data"
    }
   ],
   "source": [
    "plt.plot(s_plus_DOM,fVal1,label=\"Comf\")\n",
    "plt.plot(s_plus_DOM,fVal2,label=\"Power\")\n",
    "plt.xlabel(r\"$s_+$\")\n",
    "plt.ylabel(\"Cost Value\")\n",
    "plt.title(fr\"$\\alpha={alpha},\\ \\beta={beta},\\ \\bar T={Tbar},\\ s_-={s_minus},\\ T_s={Ts}$\")\n",
    "plt.legend()\n",
    "plt.savefig(\"s_plus_1b.jpeg\",dpi=640,bbox_inches='tight')\n",
    "plt.show()"
   ]
  },
  {
   "cell_type": "code",
   "execution_count": 67,
   "id": "2a38e0d4",
   "metadata": {},
   "outputs": [],
   "source": [
    "alpha = 0.5\n",
    "beta = 0.5"
   ]
  },
  {
   "cell_type": "code",
   "execution_count": 68,
   "id": "6e5e8653",
   "metadata": {},
   "outputs": [],
   "source": [
    "s_plus_DOM = np.linspace(0,1,101)\n",
    "vals = f_s_plus(s_plus_DOM)\n",
    "fVal1 = []\n",
    "fVal2 = []\n",
    "for val in vals:\n",
    "    fVal1.append(val[0])\n",
    "    fVal2.append(val[1])"
   ]
  },
  {
   "cell_type": "code",
   "execution_count": 69,
   "id": "0b5cb4b7",
   "metadata": {},
   "outputs": [
    {
     "data": {
      "image/png": "[encoded data removed]",
      "text/plain": [
       "<Figure size 432x288 with 1 Axes>"
      ]
     },
     "metadata": {
      "needs_background": "light"
     },
     "output_type": "display_data"
    }
   ],
   "source": [
    "plt.plot(s_plus_DOM,fVal1,label=\"Comf\")\n",
    "plt.plot(s_plus_DOM,fVal2,label=\"Power\")\n",
    "plt.xlabel(r\"$s_+$\")\n",
    "plt.ylabel(\"Cost Value\")\n",
    "plt.title(fr\"$\\alpha={alpha},\\ \\beta={beta},\\ \\bar T={Tbar},\\ s_-={s_minus},\\ T_s={Ts}$\")\n",
    "plt.legend()\n",
    "plt.savefig(\"s_plus_2b.jpeg\",dpi=640,bbox_inches='tight')\n",
    "plt.show()"
   ]
  },
  {
   "cell_type": "code",
   "execution_count": 70,
   "id": "bcf0340b",
   "metadata": {},
   "outputs": [],
   "source": [
    "alpha = 1\n",
    "beta = 0.5"
   ]
  },
  {
   "cell_type": "code",
   "execution_count": 71,
   "id": "26ca2b4c",
   "metadata": {},
   "outputs": [],
   "source": [
    "s_plus_DOM = np.linspace(0,1,101)\n",
    "vals = f_s_plus(s_plus_DOM)\n",
    "fVal1 = []\n",
    "fVal2 = []\n",
    "for val in vals:\n",
    "    fVal1.append(val[0])\n",
    "    fVal2.append(val[1])"
   ]
  },
  {
   "cell_type": "code",
   "execution_count": 72,
   "id": "ac54fddd",
   "metadata": {},
   "outputs": [
    {
     "data": {
      "image/png": "[encoded data removed]",
      "text/plain": [
       "<Figure size 432x288 with 1 Axes>"
      ]
     },
     "metadata": {
      "needs_background": "light"
     },
     "output_type": "display_data"
    }
   ],
   "source": [
    "plt.plot(s_plus_DOM,fVal1,label=\"Comf\")\n",
    "plt.plot(s_plus_DOM,fVal2,label=\"Power\")\n",
    "plt.xlabel(r\"$s_+$\")\n",
    "plt.ylabel(\"Cost Value\")\n",
    "plt.title(fr\"$\\alpha={alpha},\\ \\beta={beta},\\ \\bar T={Tbar},\\ s_-={s_minus},\\ T_s={Ts}$\")\n",
    "plt.legend()\n",
    "plt.savefig(\"s_plus_3b.jpeg\",dpi=640,bbox_inches='tight')\n",
    "plt.show()"
   ]
  },
  {
   "cell_type": "code",
   "execution_count": 73,
   "id": "f8aa159f",
   "metadata": {},
   "outputs": [],
   "source": [
    "alpha = 0.5\n",
    "beta = 1"
   ]
  },
  {
   "cell_type": "code",
   "execution_count": 74,
   "id": "9042fc59",
   "metadata": {},
   "outputs": [],
   "source": [
    "s_plus_DOM = np.linspace(0,1,101)\n",
    "vals = f_s_plus(s_plus_DOM)\n",
    "fVal1 = []\n",
    "fVal2 = []\n",
    "for val in vals:\n",
    "    fVal1.append(val[0])\n",
    "    fVal2.append(val[1])"
   ]
  },
  {
   "cell_type": "code",
   "execution_count": 75,
   "id": "05848c17",
   "metadata": {},
   "outputs": [
    {
     "data": {
      "image/png": "[encoded data removed]",
      "text/plain": [
       "<Figure size 432x288 with 1 Axes>"
      ]
     },
     "metadata": {
      "needs_background": "light"
     },
     "output_type": "display_data"
    }
   ],
   "source": [
    "plt.plot(s_plus_DOM,fVal1,label=\"Comf\")\n",
    "plt.plot(s_plus_DOM,fVal2,label=\"Power\")\n",
    "plt.xlabel(r\"$s_+$\")\n",
    "plt.ylabel(\"Cost Value\")\n",
    "plt.title(fr\"$\\alpha={alpha},\\ \\beta={beta},\\ \\bar T={Tbar},\\ s_-={s_minus},\\ T_s={Ts}$\")\n",
    "plt.legend()\n",
    "plt.savefig(\"s_plus_4b.jpeg\",dpi=640,bbox_inches='tight')\n",
    "plt.show()"
   ]
  },
  {
   "cell_type": "markdown",
   "id": "ec3a7308",
   "metadata": {},
   "source": [
    "### Minimize $T_s$"
   ]
  },
  {
   "cell_type": "code",
   "execution_count": 130,
   "id": "ea046b9d",
   "metadata": {},
   "outputs": [],
   "source": [
    "s_minus = 0\n",
    "s_plus = 1\n",
    "alpha = 1\n",
    "N = 1\n",
    "Tc = 24\n",
    "beta = 1\n",
    "To = 30\n",
    "# Ts = 20\n",
    "Tbar = 25\n",
    "Tbar = 25.92904663\n",
    "muBar = 0.5\n",
    "cp = 1\n",
    "r = 2\n",
    "c = 15\n",
    "D = 10\n",
    "s = lambda T: s_minus if T <= Tbar else s_plus"
   ]
  },
  {
   "cell_type": "code",
   "execution_count": 131,
   "id": "9f6d05db",
   "metadata": {},
   "outputs": [],
   "source": [
    "def f_Ts(Ts):\n",
    "    s = lambda T: s_minus if T <= Tbar else s_plus\n",
    "    Lcomf = lambda T: get_P(alpha, T, To, r, muBar, Tbar, s_min=s_minus, s_max=s_plus, Ts=Ts) * (T-Tc)**2\n",
    "    Lpower = lambda T: get_P(alpha, T, To, r, muBar, Tbar, s_min=s_minus, s_max=s_plus, Ts=Ts)*s(T)\n",
    "    val = alpha*N/2 * quad(Lcomf,-np.inf,np.inf)[0] + beta*(To-Ts)*muBar*N*quad(Lpower,-np.inf,np.inf)[0]\n",
    "    return val\n",
    "f_Ts = np.vectorize(f_Ts,otypes=[np.ndarray])"
   ]
  },
  {
   "cell_type": "code",
   "execution_count": 132,
   "id": "aa242cc1",
   "metadata": {},
   "outputs": [],
   "source": [
    "tsDom = np.linspace(10,40,101)\n",
    "fVal = f_Ts(tsDom)"
   ]
  },
  {
   "cell_type": "code",
   "execution_count": 133,
   "id": "baacb34f",
   "metadata": {},
   "outputs": [
    {
     "data": {
      "image/png": "[encoded data removed]",
      "text/plain": [
       "<Figure size 432x288 with 1 Axes>"
      ]
     },
     "metadata": {
      "needs_background": "light"
     },
     "output_type": "display_data"
    }
   ],
   "source": [
    "plt.plot(tsDom,fVal)\n",
    "plt.xlabel(r\"$\\bar{T}$\")\n",
    "plt.ylabel(\"Cost Value\")\n",
    "plt.title(fr\"$\\alpha={alpha},\\ \\beta={beta},\\ s_-={s_minus},\\ s_+={s_plus},\\ \\bar T={Tbar}$\")\n",
    "plt.savefig(\"ts_1a.jpeg\",dpi=640,bbox_inches='tight')\n",
    "plt.show()"
   ]
  },
  {
   "cell_type": "code",
   "execution_count": 134,
   "id": "09af12c4",
   "metadata": {},
   "outputs": [
    {
     "data": {
      "text/plain": [
       "      fun: array([2.7199675000540107e-10], dtype=object)\n",
       " hess_inv: <1x1 LbfgsInvHessProduct with dtype=float64>\n",
       "      jac: array([4.94090727e-10])\n",
       "  message: b'CONVERGENCE: NORM_OF_PROJECTED_GRADIENT_<=_PGTOL'\n",
       "     nfev: 14\n",
       "      nit: 6\n",
       "   status: 0\n",
       "  success: True\n",
       "        x: array([11.62388223])"
      ]
     },
     "execution_count": 134,
     "metadata": {},
     "output_type": "execute_result"
    }
   ],
   "source": [
    "bnds = ((10,40),)\n",
    "minimize(f_Ts,26.5,bounds=bnds)"
   ]
  },
  {
   "cell_type": "code",
   "execution_count": 135,
   "id": "f71472ed",
   "metadata": {},
   "outputs": [],
   "source": [
    "alpha = 0.5\n",
    "beta = 0.5"
   ]
  },
  {
   "cell_type": "code",
   "execution_count": 136,
   "id": "229252b0",
   "metadata": {},
   "outputs": [],
   "source": [
    "tsDom = np.linspace(10,40,101)\n",
    "fVal = f_Ts(tsDom)"
   ]
  },
  {
   "cell_type": "code",
   "execution_count": 137,
   "id": "d6e4410c",
   "metadata": {},
   "outputs": [
    {
     "data": {
      "image/png": "[encoded data removed]",
      "text/plain": [
       "<Figure size 432x288 with 1 Axes>"
      ]
     },
     "metadata": {
      "needs_background": "light"
     },
     "output_type": "display_data"
    }
   ],
   "source": [
    "plt.plot(tsDom,fVal)\n",
    "plt.xlabel(r\"$\\bar{T}$\")\n",
    "plt.ylabel(\"Cost Value\")\n",
    "plt.title(fr\"$\\alpha={alpha},\\ \\beta={beta},\\ s_-={s_minus},\\ s_+={s_plus},\\ \\bar T={Tbar}$\")\n",
    "plt.savefig(\"ts_2a.jpeg\",dpi=640,bbox_inches='tight')\n",
    "plt.show()"
   ]
  },
  {
   "cell_type": "code",
   "execution_count": 138,
   "id": "fefdfdbb",
   "metadata": {},
   "outputs": [
    {
     "data": {
      "text/plain": [
       "      fun: array([0.6906012664966333], dtype=object)\n",
       " hess_inv: <1x1 LbfgsInvHessProduct with dtype=float64>\n",
       "      jac: array([0.0199448])\n",
       "  message: b'CONVERGENCE: NORM_OF_PROJECTED_GRADIENT_<=_PGTOL'\n",
       "     nfev: 14\n",
       "      nit: 6\n",
       "   status: 0\n",
       "  success: True\n",
       "        x: array([10.])"
      ]
     },
     "execution_count": 138,
     "metadata": {},
     "output_type": "execute_result"
    }
   ],
   "source": [
    "bnds = ((10,40),)\n",
    "minimize(f_Ts,26.5,bounds=bnds)"
   ]
  },
  {
   "cell_type": "code",
   "execution_count": 139,
   "id": "ee495c80",
   "metadata": {},
   "outputs": [],
   "source": [
    "alpha = 1\n",
    "beta = 0.5"
   ]
  },
  {
   "cell_type": "code",
   "execution_count": 140,
   "id": "61331ac7",
   "metadata": {},
   "outputs": [],
   "source": [
    "tsDom = np.linspace(10,40,101)\n",
    "fVal = f_Ts(tsDom)"
   ]
  },
  {
   "cell_type": "code",
   "execution_count": 141,
   "id": "99037dbd",
   "metadata": {},
   "outputs": [
    {
     "data": {
      "image/png": "[encoded data removed]",
      "text/plain": [
       "<Figure size 432x288 with 1 Axes>"
      ]
     },
     "metadata": {
      "needs_background": "light"
     },
     "output_type": "display_data"
    }
   ],
   "source": [
    "plt.plot(tsDom,fVal)\n",
    "plt.xlabel(r\"$\\bar{T}$\")\n",
    "plt.ylabel(\"Cost Value\")\n",
    "plt.title(fr\"$\\alpha={alpha},\\ \\beta={beta},\\ s_-={s_minus},\\ s_+={s_plus},\\ \\bar T={Tbar}$\")\n",
    "plt.savefig(\"ts_3a.jpeg\",dpi=640,bbox_inches='tight')\n",
    "plt.show()"
   ]
  },
  {
   "cell_type": "code",
   "execution_count": 142,
   "id": "2e340b88",
   "metadata": {},
   "outputs": [
    {
     "data": {
      "text/plain": [
       "      fun: array([2.2901531252195211e-10], dtype=object)\n",
       " hess_inv: <1x1 LbfgsInvHessProduct with dtype=float64>\n",
       "      jac: array([4.11151853e-10])\n",
       "  message: b'CONVERGENCE: NORM_OF_PROJECTED_GRADIENT_<=_PGTOL'\n",
       "     nfev: 14\n",
       "      nit: 6\n",
       "   status: 0\n",
       "  success: True\n",
       "        x: array([11.6238849])"
      ]
     },
     "execution_count": 142,
     "metadata": {},
     "output_type": "execute_result"
    }
   ],
   "source": [
    "bnds = ((10,40),)\n",
    "minimize(f_Ts,26.5,bounds=bnds)"
   ]
  },
  {
   "cell_type": "code",
   "execution_count": 143,
   "id": "14286f57",
   "metadata": {},
   "outputs": [],
   "source": [
    "alpha = 0.5\n",
    "beta = 1"
   ]
  },
  {
   "cell_type": "code",
   "execution_count": 144,
   "id": "e02450a3",
   "metadata": {},
   "outputs": [],
   "source": [
    "tsDom = np.linspace(10,40,101)\n",
    "fVal = f_Ts(tsDom)"
   ]
  },
  {
   "cell_type": "code",
   "execution_count": 145,
   "id": "dc6b4500",
   "metadata": {},
   "outputs": [
    {
     "data": {
      "image/png": "[encoded data removed]",
      "text/plain": [
       "<Figure size 432x288 with 1 Axes>"
      ]
     },
     "metadata": {
      "needs_background": "light"
     },
     "output_type": "display_data"
    }
   ],
   "source": [
    "plt.plot(tsDom,fVal)\n",
    "plt.xlabel(r\"$\\bar{T}$\")\n",
    "plt.ylabel(\"Cost Value\")\n",
    "plt.title(fr\"$\\alpha={alpha},\\ \\beta={beta},\\ s_-={s_minus},\\ s_+={s_plus},\\ \\bar T={Tbar}$\")\n",
    "plt.savefig(\"ts_4a.jpeg\",dpi=640,bbox_inches='tight')\n",
    "plt.show()"
   ]
  },
  {
   "cell_type": "code",
   "execution_count": 146,
   "id": "e03b385e",
   "metadata": {},
   "outputs": [
    {
     "data": {
      "text/plain": [
       "      fun: array([0.6906012664966333], dtype=object)\n",
       " hess_inv: <1x1 LbfgsInvHessProduct with dtype=float64>\n",
       "      jac: array([0.0199448])\n",
       "  message: b'CONVERGENCE: NORM_OF_PROJECTED_GRADIENT_<=_PGTOL'\n",
       "     nfev: 14\n",
       "      nit: 6\n",
       "   status: 0\n",
       "  success: True\n",
       "        x: array([10.])"
      ]
     },
     "execution_count": 146,
     "metadata": {},
     "output_type": "execute_result"
    }
   ],
   "source": [
    "bnds = ((10,40),)\n",
    "minimize(f_Ts,26.5,bounds=bnds)"
   ]
  },
  {
   "cell_type": "code",
   "execution_count": null,
   "id": "4478ee5e",
   "metadata": {},
   "outputs": [],
   "source": []
  },
  {
   "cell_type": "markdown",
   "id": "f7153153",
   "metadata": {},
   "source": [
    "### OLD"
   ]
  },
  {
   "cell_type": "code",
   "execution_count": 109,
   "id": "41bc2bec",
   "metadata": {},
   "outputs": [],
   "source": [
    "T = 24"
   ]
  },
  {
   "cell_type": "code",
   "execution_count": null,
   "id": "c98de856",
   "metadata": {},
   "outputs": [],
   "source": []
  },
  {
   "cell_type": "code",
   "execution_count": null,
   "id": "5b996520",
   "metadata": {},
   "outputs": [],
   "source": []
  },
  {
   "cell_type": "code",
   "execution_count": 73,
   "id": "428ed7e0",
   "metadata": {},
   "outputs": [
    {
     "data": {
      "text/plain": [
       "0.045078656560785274"
      ]
     },
     "execution_count": 73,
     "metadata": {},
     "output_type": "execute_result"
    }
   ],
   "source": [
    "get_P(alpha, T, To, r, muBar, Tbar, s_min=s_minus, s_max=s_plus, Ts=Ts)"
   ]
  },
  {
   "cell_type": "code",
   "execution_count": null,
   "id": "d396817c",
   "metadata": {},
   "outputs": [],
   "source": []
  },
  {
   "cell_type": "code",
   "execution_count": 74,
   "id": "c9b3d5c1",
   "metadata": {},
   "outputs": [],
   "source": [
    "def f(Tbar):\n",
    "    s_minus = 0.2\n",
    "    s_plus = 1\n",
    "    alpha = 1\n",
    "    N = 1\n",
    "    Tc = 24\n",
    "    beta = 1\n",
    "    To = 30\n",
    "    Ts = 20\n",
    "    muBar = 0.5\n",
    "    cp = 1\n",
    "    r = 2\n",
    "    c = 15\n",
    "    D = 10\n",
    "    s = lambda T: s_minus if T <= Tbar else s_plus\n",
    "    U1 = lambda T: (T-To)**2/(2*r) + cp*muBar*s(T)/2 * ((T-Ts)**2 - (Tbar-Ts)**2)\n",
    "    Zfunc = lambda T: np.exp(-c/D * U1(T))\n",
    "    Z = quad(Zfunc,-np.inf,np.inf)[0]\n",
    "    P = lambda T: 1/Z * np.exp(-c/D * U1(T))\n",
    "    Lcomf = lambda T: P(T) * (T-Tc)**2\n",
    "    Lpower = lambda T: P(T)*s(T)\n",
    "    val = alpha*N/2 * quad(Lcomf,-np.inf,np.inf)[0] + beta*(To-Ts)*muBar*N*quad(Lpower,-np.inf,np.inf)[0]\n",
    "    return val\n",
    "f = np.vectorize(f,otypes=[np.ndarray])"
   ]
  },
  {
   "cell_type": "code",
   "execution_count": 75,
   "id": "5bc18129",
   "metadata": {},
   "outputs": [
    {
     "data": {
      "text/plain": [
       "array(5.833333333333292, dtype=object)"
      ]
     },
     "execution_count": 75,
     "metadata": {},
     "output_type": "execute_result"
    }
   ],
   "source": [
    "f(0.5)"
   ]
  },
  {
   "cell_type": "code",
   "execution_count": 76,
   "id": "ed40f107",
   "metadata": {},
   "outputs": [
    {
     "name": "stderr",
     "output_type": "stream",
     "text": [
      "/Users/aaronlarsen/opt/anaconda3/lib/python3.7/site-packages/ipykernel_launcher.py:22: IntegrationWarning: The algorithm does not converge.  Roundoff error is detected\n",
      "  in the extrapolation table.  It is assumed that the requested tolerance\n",
      "  cannot be achieved, and that the returned result (if full_output = 1) is \n",
      "  the best which can be obtained.\n"
     ]
    }
   ],
   "source": [
    "tbarDom = np.linspace(20,30,1001)\n",
    "fVal = f(tbarDom)"
   ]
  },
  {
   "cell_type": "code",
   "execution_count": 77,
   "id": "928dd666",
   "metadata": {},
   "outputs": [
    {
     "data": {
      "text/plain": [
       "array(68609101.52086288, dtype=object)"
      ]
     },
     "execution_count": 77,
     "metadata": {},
     "output_type": "execute_result"
    }
   ],
   "source": [
    "f(15)"
   ]
  },
  {
   "cell_type": "code",
   "execution_count": 78,
   "id": "46f657af",
   "metadata": {},
   "outputs": [
    {
     "data": {
      "text/plain": [
       "array([8654.384639568514, 8654.384639568329, 8654.38463956781, ...,\n",
       "       10.468547905091988, 10.475890290618727, 10.48314857787032],\n",
       "      dtype=object)"
      ]
     },
     "execution_count": 78,
     "metadata": {},
     "output_type": "execute_result"
    }
   ],
   "source": [
    "fVal"
   ]
  },
  {
   "cell_type": "code",
   "execution_count": 79,
   "id": "8ad86017",
   "metadata": {},
   "outputs": [
    {
     "data": {
      "image/png": "[encoded data removed]",
      "text/plain": [
       "<Figure size 432x288 with 1 Axes>"
      ]
     },
     "metadata": {
      "needs_background": "light"
     },
     "output_type": "display_data"
    }
   ],
   "source": [
    "plt.plot(tbarDom,fVal)\n",
    "plt.show()"
   ]
  },
  {
   "cell_type": "code",
   "execution_count": null,
   "id": "dfe3dd7c",
   "metadata": {},
   "outputs": [],
   "source": []
  },
  {
   "cell_type": "code",
   "execution_count": 80,
   "id": "1b563911",
   "metadata": {},
   "outputs": [],
   "source": [
    "def partition(Tbar):\n",
    "    s_minus = 0.2\n",
    "    s_plus = 1\n",
    "    alpha = 1\n",
    "    N = 1\n",
    "    Tc = 24\n",
    "    beta = 1\n",
    "    To = 30\n",
    "    Ts = 20\n",
    "    muBar = 0.5\n",
    "    cp = 1\n",
    "    r = 2\n",
    "    c = 15\n",
    "    D = 10\n",
    "    s = lambda T: s_minus if T <= Tbar else s_plus\n",
    "    U1 = lambda T: (T-To)**2/(2*r) + cp*muBar*s(T)/2 * ((T-Ts)**2 - (Tbar-Ts)**2)\n",
    "    Zfunc = lambda T: np.exp(-c/D * U1(T))\n",
    "    Z = quad(Zfunc,-np.inf,np.inf)[0]\n",
    "    return Z\n",
    "partition = np.vectorize(partition,otypes=[np.ndarray])"
   ]
  },
  {
   "cell_type": "code",
   "execution_count": 81,
   "id": "b321c9ae",
   "metadata": {},
   "outputs": [],
   "source": [
    "tbarDom = np.linspace(20,30,1001)\n",
    "zVal = partition(tbarDom)"
   ]
  },
  {
   "cell_type": "code",
   "execution_count": 82,
   "id": "5eadedab",
   "metadata": {},
   "outputs": [
    {
     "data": {
      "text/plain": [
       "[<matplotlib.lines.Line2D at 0x7fc3a442e590>]"
      ]
     },
     "execution_count": 82,
     "metadata": {},
     "output_type": "execute_result"
    },
    {
     "data": {
      "image/png": "[encoded data removed]",
      "text/plain": [
       "<Figure size 432x288 with 1 Axes>"
      ]
     },
     "metadata": {
      "needs_background": "light"
     },
     "output_type": "display_data"
    }
   ],
   "source": [
    "plt.plot(tbarDom,zVal)"
   ]
  },
  {
   "cell_type": "code",
   "execution_count": 83,
   "id": "bd67e4a7",
   "metadata": {},
   "outputs": [],
   "source": [
    "def P(Tbar,T):\n",
    "    s_minus = 0.2\n",
    "    s_plus = 1\n",
    "    alpha = 1\n",
    "    N = 1\n",
    "    Tc = 24\n",
    "    beta = 1\n",
    "    To = 30\n",
    "    Ts = 20\n",
    "    muBar = 0.5\n",
    "    cp = 1\n",
    "    r = 2\n",
    "    c = 15\n",
    "    D = 10\n",
    "    s = lambda T: s_minus if T <= Tbar else s_plus\n",
    "    U1 = lambda T: (T-To)**2/(2*r) + cp*muBar*s(T)/2 * ((T-Ts)**2 - (Tbar-Ts)**2)\n",
    "    Zfunc = lambda T: np.exp(-c/D * U1(T))\n",
    "    Z = quad(Zfunc,-np.inf,np.inf)[0]\n",
    "    P = lambda T: 1/Z * np.exp(-c/D * U1(T))\n",
    "    return P(T)\n",
    "P = np.vectorize(P,otypes=[np.ndarray])"
   ]
  },
  {
   "cell_type": "code",
   "execution_count": 84,
   "id": "ab5bcd49",
   "metadata": {},
   "outputs": [],
   "source": [
    "tbarDom = np.linspace(20,30,1001)\n",
    "Pval = P(25,np.linspace(-10,10,1001))"
   ]
  },
  {
   "cell_type": "code",
   "execution_count": 85,
   "id": "1fa8291c",
   "metadata": {},
   "outputs": [
    {
     "data": {
      "text/plain": [
       "[<matplotlib.lines.Line2D at 0x7fc3b36ab4d0>]"
      ]
     },
     "execution_count": 85,
     "metadata": {},
     "output_type": "execute_result"
    },
    {
     "data": {
      "image/png": "[encoded data removed]",
      "text/plain": [
       "<Figure size 432x288 with 1 Axes>"
      ]
     },
     "metadata": {
      "needs_background": "light"
     },
     "output_type": "display_data"
    }
   ],
   "source": [
    "plt.plot(np.linspace(-100,100,1001),Pval)"
   ]
  },
  {
   "cell_type": "code",
   "execution_count": 86,
   "id": "78837444",
   "metadata": {},
   "outputs": [],
   "source": [
    "def Lcomf(Tbar):\n",
    "    s_minus = 0.2\n",
    "    s_plus = 1\n",
    "    alpha = 1\n",
    "    N = 1\n",
    "    Tc = 24\n",
    "    beta = 1\n",
    "    To = 30\n",
    "    Ts = 20\n",
    "    muBar = 0.5\n",
    "    cp = 1\n",
    "    r = 2\n",
    "    c = 15\n",
    "    D = 10\n",
    "    s = lambda T: s_minus if T <= Tbar else s_plus\n",
    "    U1 = lambda T: (T-To)**2/(2*r) + cp*muBar*s(T)/2 * ((T-Ts)**2 - (Tbar-Ts)**2)\n",
    "    Zfunc = lambda T: np.exp(-c/D * U1(T))\n",
    "    Z = quad(Zfunc,-np.inf,np.inf)[0]\n",
    "    P = lambda T: 1/Z * np.exp(-c/D * U1(T))\n",
    "    Lcomf = lambda T: P(T) * (T-Tc)**2\n",
    "    val = alpha*N/2 * quad(Lcomf,-np.inf,np.inf)[0]\n",
    "    return val\n",
    "Lcomf = np.vectorize(Lcomf,otypes=[np.ndarray])"
   ]
  },
  {
   "cell_type": "code",
   "execution_count": 87,
   "id": "04001fe6",
   "metadata": {},
   "outputs": [],
   "source": [
    "tbarDom = np.linspace(20,30,1001)\n",
    "Lcomfval = Lcomf(tbarDom)"
   ]
  },
  {
   "cell_type": "code",
   "execution_count": 88,
   "id": "e9fcf4e8",
   "metadata": {},
   "outputs": [
    {
     "data": {
      "text/plain": [
       "[<matplotlib.lines.Line2D at 0x7fc3b308f590>]"
      ]
     },
     "execution_count": 88,
     "metadata": {},
     "output_type": "execute_result"
    },
    {
     "data": {
      "image/png": "[encoded data removed]",
      "text/plain": [
       "<Figure size 432x288 with 1 Axes>"
      ]
     },
     "metadata": {
      "needs_background": "light"
     },
     "output_type": "display_data"
    }
   ],
   "source": [
    "plt.plot(tbarDom,Lcomfval)"
   ]
  },
  {
   "cell_type": "code",
   "execution_count": 89,
   "id": "c866263f",
   "metadata": {},
   "outputs": [],
   "source": [
    "def Lpower(Tbar):\n",
    "    s_minus = 0.2\n",
    "    s_plus = 1\n",
    "    alpha = 1\n",
    "    N = 1\n",
    "    Tc = 24\n",
    "    beta = 1\n",
    "    To = 30\n",
    "    Ts = 20\n",
    "    muBar = 0.5\n",
    "    cp = 1\n",
    "    r = 2\n",
    "    c = 15\n",
    "    D = 10\n",
    "    s = lambda T: s_minus if T <= Tbar else s_plus\n",
    "    U1 = lambda T: (T-To)**2/(2*r) + cp*muBar*s(T)/2 * ((T-Ts)**2 - (Tbar-Ts)**2)\n",
    "    Zfunc = lambda T: np.exp(-c/D * U1(T))\n",
    "    Z = quad(Zfunc,-np.inf,np.inf)[0]\n",
    "    P = lambda T: 1/Z * np.exp(-c/D * U1(T))\n",
    "    Lcomf = lambda T: P(T) * (T-Tc)**2\n",
    "    Lpower = lambda T: P(T)*s(T)\n",
    "    val = beta*(To-Ts)*muBar*N*quad(Lpower,-np.inf,np.inf)[0]\n",
    "    return val\n",
    "Lpower = np.vectorize(Lpower,otypes=[np.ndarray])"
   ]
  },
  {
   "cell_type": "code",
   "execution_count": 90,
   "id": "f40bd9da",
   "metadata": {},
   "outputs": [
    {
     "name": "stderr",
     "output_type": "stream",
     "text": [
      "/Users/aaronlarsen/opt/anaconda3/lib/python3.7/site-packages/ipykernel_launcher.py:22: IntegrationWarning: The algorithm does not converge.  Roundoff error is detected\n",
      "  in the extrapolation table.  It is assumed that the requested tolerance\n",
      "  cannot be achieved, and that the returned result (if full_output = 1) is \n",
      "  the best which can be obtained.\n"
     ]
    }
   ],
   "source": [
    "tbarDom = np.linspace(20,30,1001)\n",
    "Lpowerval = Lpower(tbarDom)"
   ]
  },
  {
   "cell_type": "code",
   "execution_count": 91,
   "id": "b330be08",
   "metadata": {},
   "outputs": [
    {
     "data": {
      "text/plain": [
       "[<matplotlib.lines.Line2D at 0x7fc3b082ad90>]"
      ]
     },
     "execution_count": 91,
     "metadata": {},
     "output_type": "execute_result"
    },
    {
     "data": {
      "image/png": "[encoded data removed]",
      "text/plain": [
       "<Figure size 432x288 with 1 Axes>"
      ]
     },
     "metadata": {
      "needs_background": "light"
     },
     "output_type": "display_data"
    }
   ],
   "source": [
    "plt.plot(tbarDom,Lpowerval)"
   ]
  },
  {
   "cell_type": "markdown",
   "id": "079a7ff7",
   "metadata": {},
   "source": [
    "### Plot of Lagrangian"
   ]
  },
  {
   "cell_type": "code",
   "execution_count": null,
   "id": "50384cc4",
   "metadata": {},
   "outputs": [],
   "source": []
  }
 ],
 "metadata": {
  "kernelspec": {
   "display_name": "Python 3 (ipykernel)",
   "language": "python",
   "name": "python3"
  },
  "language_info": {
   "codemirror_mode": {
    "name": "ipython",
    "version": 3
   },
   "file_extension": ".py",
   "mimetype": "text/x-python",
   "name": "python",
   "nbconvert_exporter": "python",
   "pygments_lexer": "ipython3",
   "version": "3.9.15"
  }
 },
 "nbformat": 4,
 "nbformat_minor": 5
}
